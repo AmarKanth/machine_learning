{
 "cells": [
  {
   "cell_type": "code",
   "execution_count": 1,
   "id": "aedbbf70-0c01-4ff9-9a0d-755de2fc62d2",
   "metadata": {},
   "outputs": [],
   "source": [
    "import numpy as np\n",
    "import pandas as pd\n",
    "import matplotlib.pyplot as plt\n",
    "import statsmodels.api as sm"
   ]
  },
  {
   "cell_type": "code",
   "execution_count": 4,
   "id": "5b68abf3-d3bb-4c0c-8fc1-255274c4eb9e",
   "metadata": {},
   "outputs": [
    {
     "name": "stdout",
     "output_type": "stream",
     "text": [
      "               SAT        GPA  Rand 1,2,3\n",
      "count    84.000000  84.000000   84.000000\n",
      "mean   1845.273810   3.330238    2.059524\n",
      "std     104.530661   0.271617    0.855192\n",
      "min    1634.000000   2.400000    1.000000\n",
      "25%    1772.000000   3.190000    1.000000\n",
      "50%    1846.000000   3.380000    2.000000\n",
      "75%    1934.000000   3.502500    3.000000\n",
      "max    2050.000000   3.810000    3.000000\n"
     ]
    }
   ],
   "source": [
    "file_path = \"~/Desktop/Projects/machine_learning/04.regressions/02.multi_linear_regression/data/02.mlr.csv\"\n",
    "data = pd.read_csv(file_path)\n",
    "print(data.describe())"
   ]
  },
  {
   "cell_type": "code",
   "execution_count": 6,
   "id": "0fd67cce-9c19-4914-b2be-6ceacb08bdc3",
   "metadata": {},
   "outputs": [
    {
     "name": "stdout",
     "output_type": "stream",
     "text": [
      "                            OLS Regression Results                            \n",
      "==============================================================================\n",
      "Dep. Variable:                    GPA   R-squared:                       0.407\n",
      "Model:                            OLS   Adj. R-squared:                  0.392\n",
      "Method:                 Least Squares   F-statistic:                     27.76\n",
      "Date:                Mon, 04 Aug 2025   Prob (F-statistic):           6.58e-10\n",
      "Time:                        16:28:47   Log-Likelihood:                 12.720\n",
      "No. Observations:                  84   AIC:                            -19.44\n",
      "Df Residuals:                      81   BIC:                            -12.15\n",
      "Df Model:                           2                                         \n",
      "Covariance Type:            nonrobust                                         \n",
      "==============================================================================\n",
      "                 coef    std err          t      P>|t|      [0.025      0.975]\n",
      "------------------------------------------------------------------------------\n",
      "const          0.2960      0.417      0.710      0.480      -0.533       1.125\n",
      "SAT            0.0017      0.000      7.432      0.000       0.001       0.002\n",
      "Rand 1,2,3    -0.0083      0.027     -0.304      0.762      -0.062       0.046\n",
      "==============================================================================\n",
      "Omnibus:                       12.992   Durbin-Watson:                   0.948\n",
      "Prob(Omnibus):                  0.002   Jarque-Bera (JB):               16.364\n",
      "Skew:                          -0.731   Prob(JB):                     0.000280\n",
      "Kurtosis:                       4.594   Cond. No.                     3.33e+04\n",
      "==============================================================================\n",
      "\n",
      "Notes:\n",
      "[1] Standard Errors assume that the covariance matrix of the errors is correctly specified.\n",
      "[2] The condition number is large, 3.33e+04. This might indicate that there are\n",
      "strong multicollinearity or other numerical problems.\n"
     ]
    }
   ],
   "source": [
    "y = data[\"GPA\"]\n",
    "x1 = data[[\"SAT\", \"Rand 1,2,3\"]]\n",
    "x = sm.add_constant(x1)\n",
    "results = sm.OLS(y,x).fit()\n",
    "print(results.summary())"
   ]
  },
  {
   "cell_type": "code",
   "execution_count": null,
   "id": "9b74a0e2-480d-4f96-a527-456fd51e9102",
   "metadata": {},
   "outputs": [],
   "source": []
  }
 ],
 "metadata": {
  "kernelspec": {
   "display_name": "Python 3 (ipykernel)",
   "language": "python",
   "name": "python3"
  },
  "language_info": {
   "codemirror_mode": {
    "name": "ipython",
    "version": 3
   },
   "file_extension": ".py",
   "mimetype": "text/x-python",
   "name": "python",
   "nbconvert_exporter": "python",
   "pygments_lexer": "ipython3",
   "version": "3.10.12"
  }
 },
 "nbformat": 4,
 "nbformat_minor": 5
}
