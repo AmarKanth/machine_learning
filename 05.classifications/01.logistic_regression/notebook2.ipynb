{
 "cells": [
  {
   "cell_type": "code",
   "execution_count": 1,
   "id": "1d931edf-7701-4ef1-9a93-d98388247592",
   "metadata": {},
   "outputs": [],
   "source": [
    "import numpy as np\n",
    "import pandas as pd\n",
    "import statsmodels.api as sm\n",
    "import matplotlib.pyplot as plt"
   ]
  },
  {
   "cell_type": "code",
   "execution_count": 3,
   "id": "a98a442f-83a5-4e24-ba39-19804b50ed31",
   "metadata": {},
   "outputs": [],
   "source": [
    "file_path = \"~/Desktop/Projects/machine_learning/05.classifications/01.logistic_regression/data/01.admittance.csv\"\n",
    "raw_data = pd.read_csv(file_path)"
   ]
  },
  {
   "cell_type": "code",
   "execution_count": 4,
   "id": "d073111c-8e64-459d-b18c-f0c651442eb9",
   "metadata": {},
   "outputs": [],
   "source": [
    "data = raw_data.copy()\n",
    "data[\"Admitted\"] = data[\"Admitted\"].map({\"Yes\":1, \"No\":0})"
   ]
  },
  {
   "cell_type": "code",
   "execution_count": 5,
   "id": "20687663-bb43-46bc-adf9-4d72db5d4ff2",
   "metadata": {},
   "outputs": [],
   "source": [
    "y = data[\"Admitted\"]\n",
    "x1 = data[\"SAT\"]"
   ]
  },
  {
   "cell_type": "code",
   "execution_count": 6,
   "id": "4965f105-b696-4bd5-a8b9-773ab72b919f",
   "metadata": {},
   "outputs": [
    {
     "name": "stdout",
     "output_type": "stream",
     "text": [
      "Optimization terminated successfully.\n",
      "         Current function value: 0.137766\n",
      "         Iterations 10\n",
      "                           Logit Regression Results                           \n",
      "==============================================================================\n",
      "Dep. Variable:               Admitted   No. Observations:                  168\n",
      "Model:                          Logit   Df Residuals:                      166\n",
      "Method:                           MLE   Df Model:                            1\n",
      "Date:                Thu, 07 Aug 2025   Pseudo R-squ.:                  0.7992\n",
      "Time:                        21:43:59   Log-Likelihood:                -23.145\n",
      "converged:                       True   LL-Null:                       -115.26\n",
      "Covariance Type:            nonrobust   LLR p-value:                 5.805e-42\n",
      "==============================================================================\n",
      "                 coef    std err          z      P>|z|      [0.025      0.975]\n",
      "------------------------------------------------------------------------------\n",
      "const        -69.9128     15.737     -4.443      0.000    -100.756     -39.070\n",
      "SAT            0.0420      0.009      4.454      0.000       0.024       0.060\n",
      "==============================================================================\n",
      "\n",
      "Possibly complete quasi-separation: A fraction 0.27 of observations can be\n",
      "perfectly predicted. This might indicate that there is complete\n",
      "quasi-separation. In this case some parameters will not be identified.\n"
     ]
    }
   ],
   "source": [
    "x = sm.add_constant(x1)\n",
    "reg_log = sm.Logit(y,x)\n",
    "results_log = reg_log.fit()\n",
    "print(results_log.summary())"
   ]
  },
  {
   "cell_type": "code",
   "execution_count": null,
   "id": "f1e84eb1-e28e-4987-97f9-bdeb1305640b",
   "metadata": {},
   "outputs": [],
   "source": []
  }
 ],
 "metadata": {
  "kernelspec": {
   "display_name": "Python 3 (ipykernel)",
   "language": "python",
   "name": "python3"
  },
  "language_info": {
   "codemirror_mode": {
    "name": "ipython",
    "version": 3
   },
   "file_extension": ".py",
   "mimetype": "text/x-python",
   "name": "python",
   "nbconvert_exporter": "python",
   "pygments_lexer": "ipython3",
   "version": "3.10.12"
  }
 },
 "nbformat": 4,
 "nbformat_minor": 5
}
