{
 "cells": [
  {
   "cell_type": "code",
   "execution_count": 1,
   "id": "ccd8fc7e-3b0c-4abb-b556-8ff5e167b6e1",
   "metadata": {},
   "outputs": [],
   "source": [
    "#OverFitting : Our training has focused on the particular training set so much, it has \"missed the point\".\n",
    "#UnderFitting : The model has not captured the underlying logic of the data."
   ]
  },
  {
   "cell_type": "code",
   "execution_count": 2,
   "id": "f90683c3-2953-4c87-b3fb-120fb96fe00f",
   "metadata": {},
   "outputs": [],
   "source": [
    "import numpy as np\n",
    "from sklearn.model_selection import train_test_split"
   ]
  },
  {
   "cell_type": "code",
   "execution_count": 3,
   "id": "d633e01e-0dd8-4045-991a-a5ee925f9fd4",
   "metadata": {},
   "outputs": [],
   "source": [
    "a = np.arange(1,101)\n",
    "b = np.arange(501, 601)\n",
    "a_train, a_test, b_train, b_test = train_test_split(a, b, test_size=0.2, random_state=365)"
   ]
  },
  {
   "cell_type": "code",
   "execution_count": 4,
   "id": "028e22aa-6f54-427c-9ace-a6e632c5622a",
   "metadata": {},
   "outputs": [
    {
     "name": "stdout",
     "output_type": "stream",
     "text": [
      "[ 25  32  99  73  91  66   3  59  94   1   8  15  90  54  31  20  77  82\n",
      "  30  35  95  42  38   7  11  50  21  48   2  17  10  58  68  43  41  16\n",
      "  88  72  79 100  80  39  24  86  22  23  62  76  18  47  55  26  60  19\n",
      "  71  64  51  63  65  28  12  78  13  44  75  87  40   4  29  49  37  57\n",
      "  27  74   6  45  92  34  53  83]\n",
      "[ 9 69 81 56 33 93 84 61 46 89 85 67 97  5 70 36 98 96 14 52]\n"
     ]
    }
   ],
   "source": [
    "print(a_train)\n",
    "print(a_test)"
   ]
  },
  {
   "cell_type": "code",
   "execution_count": 5,
   "id": "2dfc79fb-61f6-4c1a-b24f-6cd917f3434c",
   "metadata": {},
   "outputs": [
    {
     "name": "stdout",
     "output_type": "stream",
     "text": [
      "[525 532 599 573 591 566 503 559 594 501 508 515 590 554 531 520 577 582\n",
      " 530 535 595 542 538 507 511 550 521 548 502 517 510 558 568 543 541 516\n",
      " 588 572 579 600 580 539 524 586 522 523 562 576 518 547 555 526 560 519\n",
      " 571 564 551 563 565 528 512 578 513 544 575 587 540 504 529 549 537 557\n",
      " 527 574 506 545 592 534 553 583]\n",
      "[509 569 581 556 533 593 584 561 546 589 585 567 597 505 570 536 598 596\n",
      " 514 552]\n"
     ]
    }
   ],
   "source": [
    "print(b_train)\n",
    "print(b_test)"
   ]
  },
  {
   "cell_type": "code",
   "execution_count": null,
   "id": "a2891d6a-12c4-4d67-aaa7-a870c668e1ae",
   "metadata": {},
   "outputs": [],
   "source": []
  }
 ],
 "metadata": {
  "kernelspec": {
   "display_name": "Python 3 (ipykernel)",
   "language": "python",
   "name": "python3"
  },
  "language_info": {
   "codemirror_mode": {
    "name": "ipython",
    "version": 3
   },
   "file_extension": ".py",
   "mimetype": "text/x-python",
   "name": "python",
   "nbconvert_exporter": "python",
   "pygments_lexer": "ipython3",
   "version": "3.10.12"
  }
 },
 "nbformat": 4,
 "nbformat_minor": 5
}
