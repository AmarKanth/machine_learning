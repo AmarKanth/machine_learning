{
 "cells": [
  {
   "cell_type": "code",
   "execution_count": 21,
   "id": "9bb5c268-3303-49ed-9ddc-c6895ec7fdd2",
   "metadata": {},
   "outputs": [],
   "source": [
    "import numpy as np\n",
    "import pandas as pd\n",
    "import statsmodels.api as sm\n",
    "import matplotlib.pyplot as plt"
   ]
  },
  {
   "cell_type": "code",
   "execution_count": 26,
   "id": "027445f5-abe0-457f-aa2e-a2e3ef1dad8a",
   "metadata": {},
   "outputs": [],
   "source": [
    "file_path = \"~/Desktop/Projects/machine_learning/05.classifications/01.logistic_regression/data/03.test_dataset.csv\"\n",
    "test = pd.read_csv(file_path)"
   ]
  },
  {
   "cell_type": "code",
   "execution_count": 27,
   "id": "104dc84e-f2c1-4a1e-809b-8c258a0c01c7",
   "metadata": {},
   "outputs": [],
   "source": [
    "test[\"Admitted\"] = test[\"Admitted\"].map({\"Yes\": 1, \"No\": 0})\n",
    "test[\"Gender\"] = test[\"Gender\"].map({\"Female\": 1, \"Male\": 0})"
   ]
  },
  {
   "cell_type": "code",
   "execution_count": 28,
   "id": "9a38f312-5140-4e7d-ac83-a22462ee35f6",
   "metadata": {},
   "outputs": [],
   "source": [
    "test_actual = test[\"Admitted\"]\n",
    "test_data = test.drop([\"Admitted\"], axis=1)\n",
    "test_data = sm.add_constant(test_data)"
   ]
  },
  {
   "cell_type": "code",
   "execution_count": 29,
   "id": "a0f933c9-af7a-4833-9f89-428bd1af3a11",
   "metadata": {},
   "outputs": [],
   "source": [
    "def confusion_matrix(data, actual_values, model):\n",
    "    pred_values = model.predict(data)\n",
    "    bins = np.array([0,0.5,1])\n",
    "    cm = np.histogram2d(actual_values, pred_values, bins=bins)[0]\n",
    "    accuracy = (cm[0,0]+cm[1,1])/cm.sum()\n",
    "    return cm, accuracy"
   ]
  },
  {
   "cell_type": "code",
   "execution_count": 30,
   "id": "5b5a9945-d546-4c64-b7d6-89301f866a6c",
   "metadata": {},
   "outputs": [
    {
     "name": "stdout",
     "output_type": "stream",
     "text": [
      "          Predicted 0  Predicted 1\n",
      "Actual 0          5.0          1.0\n",
      "Actual 1          1.0         12.0\n"
     ]
    }
   ],
   "source": [
    "cm = confusion_matrix(test_data, test_actual, result_log)\n",
    "cm_df = pd.DataFrame(cm[0])\n",
    "cm_df.columns = [\"Predicted 0\", \"Predicted 1\"]\n",
    "cm_df = cm_df.rename(index={0: \"Actual 0\", 1: \"Actual 1\"})\n",
    "print(cm_df)"
   ]
  },
  {
   "cell_type": "code",
   "execution_count": null,
   "id": "a8f57bfc-6b53-4ad7-a564-59618e172f48",
   "metadata": {},
   "outputs": [],
   "source": []
  }
 ],
 "metadata": {
  "kernelspec": {
   "display_name": "Python 3 (ipykernel)",
   "language": "python",
   "name": "python3"
  },
  "language_info": {
   "codemirror_mode": {
    "name": "ipython",
    "version": 3
   },
   "file_extension": ".py",
   "mimetype": "text/x-python",
   "name": "python",
   "nbconvert_exporter": "python",
   "pygments_lexer": "ipython3",
   "version": "3.10.12"
  }
 },
 "nbformat": 4,
 "nbformat_minor": 5
}
