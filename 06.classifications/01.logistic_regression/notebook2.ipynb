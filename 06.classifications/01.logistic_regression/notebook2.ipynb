{
  "cells": [
    {
      "cell_type": "code",
      "execution_count": 46,
      "id": "1d931edf-7701-4ef1-9a93-d98388247592",
      "metadata": {
        "id": "1d931edf-7701-4ef1-9a93-d98388247592"
      },
      "outputs": [],
      "source": [
        "import numpy as np\n",
        "import pandas as pd\n",
        "import statsmodels.api as sm\n",
        "import matplotlib.pyplot as plt"
      ]
    },
    {
      "cell_type": "code",
      "execution_count": 47,
      "id": "a98a442f-83a5-4e24-ba39-19804b50ed31",
      "metadata": {
        "id": "a98a442f-83a5-4e24-ba39-19804b50ed31"
      },
      "outputs": [],
      "source": [
        "raw_data = pd.read_csv('admittance.csv')"
      ]
    },
    {
      "cell_type": "code",
      "execution_count": 48,
      "id": "d073111c-8e64-459d-b18c-f0c651442eb9",
      "metadata": {
        "id": "d073111c-8e64-459d-b18c-f0c651442eb9"
      },
      "outputs": [],
      "source": [
        "data = raw_data.copy()\n",
        "data[\"Admitted\"] = data[\"Admitted\"].map({\"Yes\":1, \"No\":0})"
      ]
    },
    {
      "cell_type": "code",
      "execution_count": 49,
      "id": "20687663-bb43-46bc-adf9-4d72db5d4ff2",
      "metadata": {
        "id": "20687663-bb43-46bc-adf9-4d72db5d4ff2"
      },
      "outputs": [],
      "source": [
        "y = data[\"Admitted\"]\n",
        "x1 = data[\"SAT\"]"
      ]
    },
    {
      "cell_type": "code",
      "execution_count": 50,
      "id": "4965f105-b696-4bd5-a8b9-773ab72b919f",
      "metadata": {
        "colab": {
          "base_uri": "https://localhost:8080/"
        },
        "id": "4965f105-b696-4bd5-a8b9-773ab72b919f",
        "outputId": "6ffca66f-a206-4f8c-d3d6-fdd53556d439"
      },
      "outputs": [
        {
          "output_type": "stream",
          "name": "stdout",
          "text": [
            "Optimization terminated successfully.\n",
            "         Current function value: 0.137766\n",
            "         Iterations 10\n",
            "                           Logit Regression Results                           \n",
            "==============================================================================\n",
            "Dep. Variable:               Admitted   No. Observations:                  168\n",
            "Model:                          Logit   Df Residuals:                      166\n",
            "Method:                           MLE   Df Model:                            1\n",
            "Date:                Sun, 07 Sep 2025   Pseudo R-squ.:                  0.7992\n",
            "Time:                        06:29:17   Log-Likelihood:                -23.145\n",
            "converged:                       True   LL-Null:                       -115.26\n",
            "Covariance Type:            nonrobust   LLR p-value:                 5.805e-42\n",
            "==============================================================================\n",
            "                 coef    std err          z      P>|z|      [0.025      0.975]\n",
            "------------------------------------------------------------------------------\n",
            "const        -69.9128     15.737     -4.443      0.000    -100.756     -39.070\n",
            "SAT            0.0420      0.009      4.454      0.000       0.024       0.060\n",
            "==============================================================================\n",
            "\n",
            "Possibly complete quasi-separation: A fraction 0.27 of observations can be\n",
            "perfectly predicted. This might indicate that there is complete\n",
            "quasi-separation. In this case some parameters will not be identified.\n"
          ]
        }
      ],
      "source": [
        "x = sm.add_constant(x1)\n",
        "reg_log = sm.Logit(y,x)\n",
        "results_log = reg_log.fit()\n",
        "print(results_log.summary())"
      ]
    },
    {
      "cell_type": "code",
      "execution_count": 51,
      "id": "f1e84eb1-e28e-4987-97f9-bdeb1305640b",
      "metadata": {
        "id": "f1e84eb1-e28e-4987-97f9-bdeb1305640b"
      },
      "outputs": [],
      "source": [
        "np.set_printoptions(formatter={\"float\": lambda x: \"{0:0.2f}\".format(x)})"
      ]
    },
    {
      "cell_type": "code",
      "source": [
        "print(results_log.predict())"
      ],
      "metadata": {
        "colab": {
          "base_uri": "https://localhost:8080/"
        },
        "id": "drh1on8c3AV4",
        "outputId": "aac4fa09-f9c3-495d-9e9a-765a3178806d"
      },
      "id": "drh1on8c3AV4",
      "execution_count": 52,
      "outputs": [
        {
          "output_type": "stream",
          "name": "stdout",
          "text": [
            "[0.00 1.00 1.00 0.38 0.05 0.98 0.99 1.00 1.00 0.03 1.00 1.00 0.50 0.00\n",
            " 0.77 1.00 0.21 0.22 0.23 1.00 1.00 1.00 0.00 0.00 0.91 1.00 0.22 1.00\n",
            " 1.00 0.98 0.00 0.61 0.41 1.00 1.00 1.00 0.50 1.00 0.39 0.00 0.04 0.20\n",
            " 1.00 0.00 1.00 0.00 0.98 0.00 0.00 0.01 0.01 1.00 0.80 0.01 1.00 0.00\n",
            " 0.56 0.95 0.22 0.99 0.01 0.89 1.00 1.00 0.99 0.00 0.00 0.00 1.00 0.00\n",
            " 0.89 0.22 0.00 1.00 1.00 1.00 0.00 0.49 1.00 1.00 0.01 1.00 1.00 0.65\n",
            " 1.00 1.00 0.00 1.00 0.99 0.72 0.60 0.00 0.95 0.91 0.00 1.00 1.00 0.01\n",
            " 0.98 0.88 0.99 0.00 0.99 0.03 0.00 0.99 0.99 1.00 0.00 0.00 0.04 0.52\n",
            " 0.00 1.00 0.16 0.00 0.92 0.00 0.47 1.00 1.00 0.02 0.00 0.00 1.00 0.01\n",
            " 0.96 0.75 0.72 0.94 0.60 0.00 1.00 0.00 0.00 0.00 1.00 0.08 0.00 0.01\n",
            " 1.00 0.98 0.70 0.99 1.00 0.02 0.00 0.00 0.00 0.83 1.00 1.00 1.00 1.00\n",
            " 1.00 0.00 1.00 1.00 0.01 1.00 0.05 1.00 1.00 0.92 0.97 0.01 0.00 0.00]\n"
          ]
        }
      ]
    },
    {
      "cell_type": "code",
      "source": [
        "print(np.array(data[\"Admitted\"]))"
      ],
      "metadata": {
        "colab": {
          "base_uri": "https://localhost:8080/"
        },
        "id": "SuIUTqUO3EkE",
        "outputId": "e9cc6f73-e959-4b50-cb1e-13df9f93672e"
      },
      "id": "SuIUTqUO3EkE",
      "execution_count": 53,
      "outputs": [
        {
          "output_type": "stream",
          "name": "stdout",
          "text": [
            "[0 1 1 0 0 1 1 1 1 0 1 1 1 0 0 1 0 0 1 1 1 1 0 0 1 1 1 1 1 1 0 1 0 1 1 1 0\n",
            " 1 0 0 0 1 1 0 1 0 1 0 0 0 0 1 0 0 1 0 0 1 0 1 0 1 1 1 1 0 0 0 1 0 1 1 0 1\n",
            " 1 1 0 1 1 1 0 1 1 0 1 1 0 1 1 1 0 0 1 1 0 1 1 0 1 1 1 0 1 0 0 1 1 1 0 0 0\n",
            " 0 0 1 0 0 1 0 1 1 1 0 0 0 1 0 1 0 1 1 1 0 1 0 0 0 1 0 0 0 1 1 1 1 1 0 0 0\n",
            " 0 1 1 1 1 1 1 0 1 1 0 1 0 1 1 1 1 0 0 0]\n"
          ]
        }
      ]
    },
    {
      "cell_type": "code",
      "source": [
        "print(results_log.pred_table())"
      ],
      "metadata": {
        "colab": {
          "base_uri": "https://localhost:8080/"
        },
        "id": "0-FWODoP3J67",
        "outputId": "ebb6d3df-3b17-484a-aeb5-92ac58aef0d8"
      },
      "id": "0-FWODoP3J67",
      "execution_count": 54,
      "outputs": [
        {
          "output_type": "stream",
          "name": "stdout",
          "text": [
            "[[67.00 7.00]\n",
            " [7.00 87.00]]\n"
          ]
        }
      ]
    },
    {
      "cell_type": "code",
      "source": [
        "cm_df = pd.DataFrame(results_log.pred_table())\n",
        "cm_df.columns = [\"Predicted 0\", \"Predicted 1\"]\n",
        "cm_df = cm_df.rename(index={0: \"Actual 0\", 1: \"Actual 1\"})\n",
        "print(cm_df)"
      ],
      "metadata": {
        "colab": {
          "base_uri": "https://localhost:8080/"
        },
        "id": "wMkbVLsE3PrB",
        "outputId": "ccd1ca1e-ba41-47e4-c0e1-3f9004e63ffe"
      },
      "id": "wMkbVLsE3PrB",
      "execution_count": 55,
      "outputs": [
        {
          "output_type": "stream",
          "name": "stdout",
          "text": [
            "          Predicted 0  Predicted 1\n",
            "Actual 0         67.0          7.0\n",
            "Actual 1          7.0         87.0\n"
          ]
        }
      ]
    },
    {
      "cell_type": "code",
      "source": [
        "cm = np.array(cm_df)\n",
        "accuracy_train = (cm[0,0]+cm[1,1])/cm.sum()\n",
        "print(accuracy_train)"
      ],
      "metadata": {
        "colab": {
          "base_uri": "https://localhost:8080/"
        },
        "id": "I5qW1fm-3TIR",
        "outputId": "128b7f8e-6aca-4fdc-a50d-c95f01549332"
      },
      "id": "I5qW1fm-3TIR",
      "execution_count": 56,
      "outputs": [
        {
          "output_type": "stream",
          "name": "stdout",
          "text": [
            "0.9166666666666666\n"
          ]
        }
      ]
    }
  ],
  "metadata": {
    "kernelspec": {
      "display_name": "Python 3 (ipykernel)",
      "language": "python",
      "name": "python3"
    },
    "language_info": {
      "codemirror_mode": {
        "name": "ipython",
        "version": 3
      },
      "file_extension": ".py",
      "mimetype": "text/x-python",
      "name": "python",
      "nbconvert_exporter": "python",
      "pygments_lexer": "ipython3",
      "version": "3.10.12"
    },
    "colab": {
      "provenance": []
    }
  },
  "nbformat": 4,
  "nbformat_minor": 5
}