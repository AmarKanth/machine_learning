{
  "cells": [
    {
      "cell_type": "code",
      "execution_count": 19,
      "id": "9bb5c268-3303-49ed-9ddc-c6895ec7fdd2",
      "metadata": {
        "id": "9bb5c268-3303-49ed-9ddc-c6895ec7fdd2"
      },
      "outputs": [],
      "source": [
        "import numpy as np\n",
        "import pandas as pd\n",
        "import statsmodels.api as sm\n",
        "import matplotlib.pyplot as plt"
      ]
    },
    {
      "cell_type": "code",
      "execution_count": 20,
      "id": "027445f5-abe0-457f-aa2e-a2e3ef1dad8a",
      "metadata": {
        "id": "027445f5-abe0-457f-aa2e-a2e3ef1dad8a"
      },
      "outputs": [],
      "source": [
        "raw_data = pd.read_csv(\"binary_predictors.csv\")"
      ]
    },
    {
      "cell_type": "code",
      "execution_count": 21,
      "id": "423fad53-d82b-4bb4-8905-513e63f4d219",
      "metadata": {
        "id": "423fad53-d82b-4bb4-8905-513e63f4d219"
      },
      "outputs": [],
      "source": [
        "data = raw_data.copy()\n",
        "data[\"Admitted\"] = data[\"Admitted\"].map({\"Yes\": 1, \"No\": 0})\n",
        "data[\"Gender\"] = data[\"Gender\"].map({\"Female\": 1, \"Male\": 0})"
      ]
    },
    {
      "cell_type": "code",
      "execution_count": 22,
      "id": "2155fad3-00ae-4e22-83ab-da2b3210ac6f",
      "metadata": {
        "id": "2155fad3-00ae-4e22-83ab-da2b3210ac6f"
      },
      "outputs": [],
      "source": [
        "y = data[\"Admitted\"]\n",
        "x1 = data[[\"SAT\", \"Gender\"]]"
      ]
    },
    {
      "cell_type": "code",
      "execution_count": 23,
      "id": "c63fc659-0f4a-4ba1-9f59-ecc5b71c5eeb",
      "metadata": {
        "colab": {
          "base_uri": "https://localhost:8080/"
        },
        "id": "c63fc659-0f4a-4ba1-9f59-ecc5b71c5eeb",
        "outputId": "663efd30-ef5f-49da-ba2a-e26bb4b350e0"
      },
      "outputs": [
        {
          "output_type": "stream",
          "name": "stdout",
          "text": [
            "Optimization terminated successfully.\n",
            "         Current function value: 0.120117\n",
            "         Iterations 10\n"
          ]
        }
      ],
      "source": [
        "x = sm.add_constant(x1)\n",
        "reg_log = sm.Logit(y,x)\n",
        "result_log = reg_log.fit()"
      ]
    },
    {
      "cell_type": "code",
      "execution_count": 24,
      "id": "104dc84e-f2c1-4a1e-809b-8c258a0c01c7",
      "metadata": {
        "id": "104dc84e-f2c1-4a1e-809b-8c258a0c01c7"
      },
      "outputs": [],
      "source": [
        "def confusion_matrix(data, actual_values, model):\n",
        "    pred_values = model.predict(data)\n",
        "    bins = np.array([0,0.5,1])\n",
        "    cm = np.histogram2d(actual_values, pred_values, bins=bins)[0]\n",
        "    accuracy = (cm[0,0]+cm[1,1])/cm.sum()\n",
        "    return cm, accuracy"
      ]
    },
    {
      "cell_type": "code",
      "source": [
        "cm = confusion_matrix(x, y, result_log)\n",
        "cm_df = pd.DataFrame(cm[0])\n",
        "cm_df.columns = [\"Predicted 0\", \"Predicted 1\"]\n",
        "cm_df = cm_df.rename(index={0: \"Actual 0\", 1: \"Actual 1\"})\n",
        "print(cm_df)"
      ],
      "metadata": {
        "colab": {
          "base_uri": "https://localhost:8080/"
        },
        "id": "IfFEUDB85-Fu",
        "outputId": "2bffcae6-efa4-4ca5-d798-e99dd7e07884"
      },
      "id": "IfFEUDB85-Fu",
      "execution_count": 25,
      "outputs": [
        {
          "output_type": "stream",
          "name": "stdout",
          "text": [
            "          Predicted 0  Predicted 1\n",
            "Actual 0         69.0          5.0\n",
            "Actual 1          4.0         90.0\n"
          ]
        }
      ]
    }
  ],
  "metadata": {
    "kernelspec": {
      "display_name": "Python 3 (ipykernel)",
      "language": "python",
      "name": "python3"
    },
    "language_info": {
      "codemirror_mode": {
        "name": "ipython",
        "version": 3
      },
      "file_extension": ".py",
      "mimetype": "text/x-python",
      "name": "python",
      "nbconvert_exporter": "python",
      "pygments_lexer": "ipython3",
      "version": "3.10.12"
    },
    "colab": {
      "provenance": []
    }
  },
  "nbformat": 4,
  "nbformat_minor": 5
}