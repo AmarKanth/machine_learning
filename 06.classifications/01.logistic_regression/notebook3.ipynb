{
 "cells": [
  {
   "cell_type": "code",
   "execution_count": 7,
   "id": "1d931edf-7701-4ef1-9a93-d98388247592",
   "metadata": {},
   "outputs": [],
   "source": [
    "import numpy as np\n",
    "import pandas as pd\n",
    "import statsmodels.api as sm\n",
    "import matplotlib.pyplot as plt"
   ]
  },
  {
   "cell_type": "code",
   "execution_count": 8,
   "id": "a98a442f-83a5-4e24-ba39-19804b50ed31",
   "metadata": {},
   "outputs": [],
   "source": [
    "file_path = \"~/Desktop/Projects/machine_learning/05.classifications/01.logistic_regression/data/01.admittance.csv\"\n",
    "raw_data = pd.read_csv(file_path)"
   ]
  },
  {
   "cell_type": "code",
   "execution_count": 9,
   "id": "d073111c-8e64-459d-b18c-f0c651442eb9",
   "metadata": {},
   "outputs": [],
   "source": [
    "data = raw_data.copy()\n",
    "data[\"Admitted\"] = data[\"Admitted\"].map({\"Yes\":1, \"No\":0})"
   ]
  },
  {
   "cell_type": "code",
   "execution_count": 10,
   "id": "20687663-bb43-46bc-adf9-4d72db5d4ff2",
   "metadata": {},
   "outputs": [],
   "source": [
    "y = data[\"Admitted\"]\n",
    "x1 = data[\"SAT\"]"
   ]
  },
  {
   "cell_type": "code",
   "execution_count": 11,
   "id": "4965f105-b696-4bd5-a8b9-773ab72b919f",
   "metadata": {},
   "outputs": [
    {
     "name": "stdout",
     "output_type": "stream",
     "text": [
      "Optimization terminated successfully.\n",
      "         Current function value: 0.137766\n",
      "         Iterations 10\n"
     ]
    }
   ],
   "source": [
    "x = sm.add_constant(x1)\n",
    "reg_log = sm.Logit(y,x)\n",
    "results_log = reg_log.fit()"
   ]
  },
  {
   "cell_type": "code",
   "execution_count": 12,
   "id": "f1e84eb1-e28e-4987-97f9-bdeb1305640b",
   "metadata": {},
   "outputs": [],
   "source": [
    "np.set_printoptions(formatter={\"float\": lambda x: \"{0:0.2f}\".format(x)})"
   ]
  },
  {
   "cell_type": "code",
   "execution_count": 14,
   "id": "cb0b3346-6956-4108-9a44-c3e5e0eaba38",
   "metadata": {},
   "outputs": [
    {
     "name": "stdout",
     "output_type": "stream",
     "text": [
      "[0.00 1.00 1.00 0.38 0.05 0.98 0.99 1.00 1.00 0.03 1.00 1.00 0.50 0.00\n",
      " 0.77 1.00 0.21 0.22 0.23 1.00 1.00 1.00 0.00 0.00 0.91 1.00 0.22 1.00\n",
      " 1.00 0.98 0.00 0.61 0.41 1.00 1.00 1.00 0.50 1.00 0.39 0.00 0.04 0.20\n",
      " 1.00 0.00 1.00 0.00 0.98 0.00 0.00 0.01 0.01 1.00 0.80 0.01 1.00 0.00\n",
      " 0.56 0.95 0.22 0.99 0.01 0.89 1.00 1.00 0.99 0.00 0.00 0.00 1.00 0.00\n",
      " 0.89 0.22 0.00 1.00 1.00 1.00 0.00 0.49 1.00 1.00 0.01 1.00 1.00 0.65\n",
      " 1.00 1.00 0.00 1.00 0.99 0.72 0.60 0.00 0.95 0.91 0.00 1.00 1.00 0.01\n",
      " 0.98 0.88 0.99 0.00 0.99 0.03 0.00 0.99 0.99 1.00 0.00 0.00 0.04 0.52\n",
      " 0.00 1.00 0.16 0.00 0.92 0.00 0.47 1.00 1.00 0.02 0.00 0.00 1.00 0.01\n",
      " 0.96 0.75 0.72 0.94 0.60 0.00 1.00 0.00 0.00 0.00 1.00 0.08 0.00 0.01\n",
      " 1.00 0.98 0.70 0.99 1.00 0.02 0.00 0.00 0.00 0.83 1.00 1.00 1.00 1.00\n",
      " 1.00 0.00 1.00 1.00 0.01 1.00 0.05 1.00 1.00 0.92 0.97 0.01 0.00 0.00]\n"
     ]
    }
   ],
   "source": [
    "print(results_log.predict())"
   ]
  },
  {
   "cell_type": "code",
   "execution_count": 15,
   "id": "4fdad894-da3d-46b6-b81e-a636ce2c4d22",
   "metadata": {},
   "outputs": [
    {
     "name": "stdout",
     "output_type": "stream",
     "text": [
      "[0 1 1 0 0 1 1 1 1 0 1 1 1 0 0 1 0 0 1 1 1 1 0 0 1 1 1 1 1 1 0 1 0 1 1 1 0\n",
      " 1 0 0 0 1 1 0 1 0 1 0 0 0 0 1 0 0 1 0 0 1 0 1 0 1 1 1 1 0 0 0 1 0 1 1 0 1\n",
      " 1 1 0 1 1 1 0 1 1 0 1 1 0 1 1 1 0 0 1 1 0 1 1 0 1 1 1 0 1 0 0 1 1 1 0 0 0\n",
      " 0 0 1 0 0 1 0 1 1 1 0 0 0 1 0 1 0 1 1 1 0 1 0 0 0 1 0 0 0 1 1 1 1 1 0 0 0\n",
      " 0 1 1 1 1 1 1 0 1 1 0 1 0 1 1 1 1 0 0 0]\n"
     ]
    }
   ],
   "source": [
    "print(np.array(data[\"Admitted\"]))"
   ]
  },
  {
   "cell_type": "code",
   "execution_count": 17,
   "id": "7eaa6f57-d6d5-4a66-93fe-6c4ef67a92bc",
   "metadata": {},
   "outputs": [
    {
     "name": "stdout",
     "output_type": "stream",
     "text": [
      "[[67.00 7.00]\n",
      " [7.00 87.00]]\n"
     ]
    }
   ],
   "source": [
    "print(results_log.pred_table())"
   ]
  },
  {
   "cell_type": "code",
   "execution_count": 19,
   "id": "5126c94a-8a69-4251-8816-9220730689f6",
   "metadata": {},
   "outputs": [
    {
     "name": "stdout",
     "output_type": "stream",
     "text": [
      "          Predicted 0  Predicted 1\n",
      "Actual 0         67.0          7.0\n",
      "Actual 1          7.0         87.0\n"
     ]
    }
   ],
   "source": [
    "cm_df = pd.DataFrame(results_log.pred_table())\n",
    "cm_df.columns = [\"Predicted 0\", \"Predicted 1\"]\n",
    "cm_df = cm_df.rename(index={0: \"Actual 0\", 1: \"Actual 1\"})\n",
    "print(cm_df)"
   ]
  },
  {
   "cell_type": "code",
   "execution_count": 20,
   "id": "43f924ba-45cf-466b-9296-9a8e4524ae65",
   "metadata": {},
   "outputs": [
    {
     "name": "stdout",
     "output_type": "stream",
     "text": [
      "0.9166666666666666\n"
     ]
    }
   ],
   "source": [
    "cm = np.array(cm_df)\n",
    "accuracy_train = (cm[0,0]+cm[1,1])/cm.sum()\n",
    "print(accuracy_train)"
   ]
  },
  {
   "cell_type": "code",
   "execution_count": null,
   "id": "a1004c42-e05a-4067-9bac-c903c77d562c",
   "metadata": {},
   "outputs": [],
   "source": [
    "#Overfitting : Our training has focused on the particular training set so much, it has \"missed the points\"\n",
    "#Underfitting : The model has not captured the underlying logic of the data"
   ]
  }
 ],
 "metadata": {
  "kernelspec": {
   "display_name": "Python 3 (ipykernel)",
   "language": "python",
   "name": "python3"
  },
  "language_info": {
   "codemirror_mode": {
    "name": "ipython",
    "version": 3
   },
   "file_extension": ".py",
   "mimetype": "text/x-python",
   "name": "python",
   "nbconvert_exporter": "python",
   "pygments_lexer": "ipython3",
   "version": "3.10.12"
  }
 },
 "nbformat": 4,
 "nbformat_minor": 5
}
